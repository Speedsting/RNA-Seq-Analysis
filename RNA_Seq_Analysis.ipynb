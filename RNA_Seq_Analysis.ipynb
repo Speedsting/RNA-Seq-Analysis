{
 "cells": [
  {
   "cell_type": "markdown",
   "metadata": {},
   "source": [
    "# RNA-Seq Analysis (disease vs healthy)\n",
    "\n",
    "**Goals**\n",
    "- Load count data (GCT)\n",
    "- Do DE analysis with DESeq2, edgeR, and limma-voom\n",
    "- Show PCA, volcano plot, and heatmap\n",
    "- Save differential expression tables and figures"
   ]
  },
  {
   "cell_type": "code",
   "execution_count": null,
   "metadata": {
    "vscode": {
     "languageId": "r"
    }
   },
   "outputs": [],
   "source": [
    "# Set up: install only if needed\n",
    "if (!requireNameSpeace(\"BiocManager\", quitely=TRUE))\n",
    "    install.packages(\"BiocManager\")\n",
    "BiocManager::install(c(\"DESeq2\", \"edgeR\", \"limma\", \"cmapR\", \"pheatmap\", \"EnhancedVolcano\"))\n",
    "\n",
    "library(data.table)\n",
    "library(cmapR)\n",
    "library(DESeq2)\n",
    "library(edgeR)\n",
    "library(limma)\n",
    "library(ggplot2)\n",
    "library(pheatmap)\n",
    "library(EnhancedVolcano)"
   ]
  },
  {
   "cell_type": "markdown",
   "metadata": {},
   "source": [
    "## Data\n",
    "Load counts from `data/samples_raw.gct`."
   ]
  },
  {
   "cell_type": "code",
   "execution_count": null,
   "metadata": {
    "vscode": {
     "languageId": "r"
    }
   },
   "outputs": [],
   "source": [
    "gct_path <- \"data/samples_raw.gct\"\n",
    "\n",
    "# parse_gctx from cmapR\n",
    "gct <- parse_gctx(gct_path)\n",
    "expr <- gct@mat\n",
    "pheno <- as.data.frame(gct@cdesc)\n",
    "pheno$disease <- factor(pheno$disease)\n",
    "stopifnot(\"disease\" %in% colnames(pheno))\n",
    "\n",
    "dim(expr)       # briefly show dimensions\n",
    "table(pheno$disease)"
   ]
  },
  {
   "cell_type": "markdown",
   "metadata": {},
   "source": [
    "## DESeq2 differential expression\n",
    "Design: `~ disease`. Results: `LN vs healthy`."
   ]
  },
  {
   "cell_type": "code",
   "execution_count": null,
   "metadata": {
    "vscode": {
     "languageId": "r"
    }
   },
   "outputs": [],
   "source": [
    "dds <- DESeqDataSetFromMatrix(\n",
    "    countData = expr,\n",
    "    colData = pheno,\n",
    "    design = ~ disease\n",
    ")\n",
    "dds <- DESeq(dds)\n",
    "res <- results(dds, contrast=c(\"disease\", \"LN\", \"healthy\"))\n",
    "res_ordered <- res[order(res$padj), ]\n",
    "head(res_ordered, 20)\n",
    "\n",
    "# Save DESeq2 results\n",
    "write.csv(as.data.frame(res_ordered), file=\"results/deseq2_results.csv\")"
   ]
  },
  {
   "cell_type": "code",
   "execution_count": null,
   "metadata": {
    "vscode": {
     "languageId": "r"
    }
   },
   "outputs": [],
   "source": [
    "EnhancedVolcano(\n",
    "    res,\n",
    "    lab = rownames,\n",
    "    x = \"log2FoldChange\",\n",
    "    y = \"padj\",\n",
    "    pCutoff = 0.05,\n",
    "    FCcutoff = 1,\n",
    "    title = \"Volcano: diseased vs healthy\"\n",
    ")\n",
    "ggsave(\"results/volcano_disease_vs_healthy.png\", width=8, height=6)"
   ]
  },
  {
   "cell_type": "code",
   "execution_count": null,
   "metadata": {
    "vscode": {
     "languageId": "r"
    }
   },
   "outputs": [],
   "source": [
    "rld <- rlog(dds, blind=FALSE)\n",
    "p <- plotPCA(rld, intgroup=\"disease\") + \n",
    "    ggtitle(\"PCA on rlog-transformed counts\")\n",
    "ggsave(\"results/pca_rlog.png\", width=8, height=6)"
   ]
  },
  {
   "cell_type": "code",
   "execution_count": null,
   "metadata": {
    "vscode": {
     "languageId": "r"
    }
   },
   "outputs": [],
   "source": [
    "topVarGenes <- head(order(rowVars(assay(rld)), decreasing=TRUE), 50)\n",
    "mat <- assay(rld)[topVarGenes,]\n",
    "annotation <- as.data.frame(colData(rld)[\"disease\"])\n",
    "gt <- pheatmap(mat, annotation_col=annotation, show_rownames=FALSE,\n",
    "                main=\"Top 50 variable genes\", filename=\"results/heatmap.png\")$gtable"
   ]
  },
  {
   "cell_type": "markdown",
   "metadata": {},
   "source": [
    "## edgeR workflow\n",
    "Run filtering, normalization, dispersion estimation, and QL F-test (edgeR)"
   ]
  },
  {
   "cell_type": "code",
   "execution_count": null,
   "metadata": {
    "vscode": {
     "languageId": "r"
    }
   },
   "outputs": [],
   "source": [
    "dge <- DGEList(counts=expr, samples=pheno)\n",
    "keep <- filterByExpr(dge, design=model.matrix(~ disease, data=pheno))\n",
    "dge <- dge[keep, , keep.lib.sizes=FALSE]\n",
    "dge <- calcNormFactors(dge)\n",
    "design <- model.matrix(~ disease, data=pheno)\n",
    "dge <- estimateDisp(dge, design)\n",
    "\n",
    "fit <- glmQLFit(dge, design)\n",
    "qlf <- glmQLFTest(fit, coef=2)\n",
    "edgeR_table <- topTags(qlf, n=Inf)$table\n",
    "write.csv(edgeR_table, \"results/edgeR_results.csv\")"
   ]
  },
  {
   "cell_type": "markdown",
   "metadata": {},
   "source": [
    "## limma-voom workflow\n",
    "Run voom + lmFit + eBayes (limma) and plot variance trend of top 50 genes."
   ]
  },
  {
   "cell_type": "code",
   "execution_count": null,
   "metadata": {
    "vscode": {
     "languageId": "r"
    }
   },
   "outputs": [],
   "source": [
    "v <- voom(dge, design, plot=TRUE, save.plot=TRUE)\n",
    "voom_df <- data.frame(\n",
    "    gene = rownames(v$E),\n",
    "    x = v$voom.xy$x,\n",
    "    y = v$voom.xy$y,\n",
    "    stringsAsFactors=FALSE\n",
    ")\n",
    "\n",
    "top50_idx <- order(voom_df$y, decreasing=TRUE)[1:50]\n",
    "top50 <- voom_df[top50_idx, ]\n",
    "ggplot(voom_df, aes(x=x, y=y)) +\n",
    "    geom_point(alpha=0.3) +\n",
    "    geom_point(data=top50, aes(x=x, y=y), color=\"red\") +\n",
    "    geom_text(data=top50, aes(x=x, y=y, label=gene), vjust=-0.5, size=2) +\n",
    "    labs(x=\"Average log-CPM\",\n",
    "        y=\"Sqrt residual variance\",\n",
    "        title=\"Mean-variance trend with top 50 genes\") +\n",
    "    theme_minimal()\n",
    "ggsave(\"results/top50_idx.png\", width=8, height=6)"
   ]
  },
  {
   "cell_type": "code",
   "execution_count": null,
   "metadata": {
    "vscode": {
     "languageId": "r"
    }
   },
   "outputs": [],
   "source": [
    "fit2 <- lmFit(v, design)\n",
    "fit2 <- eBayes(fit2)\n",
    "limma_table <- topTable(fit2, coef=2, number=Inf)\n",
    "write.csv(limma_table, \"results/limma_voom_results.csv\")"
   ]
  },
  {
   "cell_type": "markdown",
   "metadata": {},
   "source": [
    "## Compare gene lists\n",
    "Find overlaps between DESeq2, edgeR, and limma-voom results."
   ]
  },
  {
   "cell_type": "code",
   "execution_count": null,
   "metadata": {
    "vscode": {
     "languageId": "r"
    }
   },
   "outputs": [],
   "source": [
    "deseq_genes <- rownames(subset(res, padj < 0.05))\n",
    "edgeR_genes <- rownames(topTags(qlf, n=Inf)$table)[topTags(qlf, n=Inf)$table$FDR < 0.05]\n",
    "limma_genes <- rownames(topTable(fit2, coef=2, p.value=0.05))\n",
    "\n",
    "intersect(deseq_genes, edgeR_genes)\n",
    "intersect(deseq_genes, limma_genes)\n",
    "intersect(edgeR_genes, limma_genes)"
   ]
  },
  {
   "cell_type": "code",
   "execution_count": null,
   "metadata": {
    "vscode": {
     "languageId": "r"
    }
   },
   "outputs": [],
   "source": [
    "sessionInfo()\n",
    "writeLines(capture.output(sessionInfo()), \"results/session_info.txt\")"
   ]
  }
 ],
 "metadata": {
  "language_info": {
   "name": "python"
  }
 },
 "nbformat": 4,
 "nbformat_minor": 2
}
